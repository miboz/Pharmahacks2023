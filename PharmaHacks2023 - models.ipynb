{
 "cells": [
  {
   "attachments": {},
   "cell_type": "markdown",
   "metadata": {
    "datalore": {
     "hide_input_from_viewers": false,
     "hide_output_from_viewers": false,
     "node_id": "Souleiman",
     "sheet_delimiter": true,
     "type": "MD"
    }
   },
   "source": [
    "# Souleiman"
   ]
  },
  {
   "cell_type": "code",
   "execution_count": 46,
   "metadata": {
    "datalore": {
     "hide_input_from_viewers": true,
     "hide_output_from_viewers": true,
     "node_id": "SY3Hlg28rBRmQKGV7YzOTY",
     "type": "CODE"
    }
   },
   "outputs": [],
   "source": [
    "import pandas as pd\n",
    "import numpy as np\n",
    "from scipy.stats import randint\n",
    "\n",
    "# Normalize or scale the data\n",
    "from sklearn.preprocessing import RobustScaler\n",
    "from sklearn.model_selection import train_test_split\n",
    "from sklearn.linear_model import LinearRegression\n",
    "from sklearn.pipeline import make_pipeline\n",
    "from sklearn.tree import DecisionTreeRegressor"
   ]
  },
  {
   "cell_type": "code",
   "execution_count": 7,
   "metadata": {},
   "outputs": [],
   "source": [
    "ROOT_PATH = 'data/'\n",
    "X_train = pd.read_excel(ROOT_PATH + 'train_data.xlsx', sheet_name=0)\n",
    "y_train = pd.read_excel(ROOT_PATH + 'train_data.xlsx', sheet_name=1)\n",
    "\n",
    "X_test = pd.read_excel(ROOT_PATH + 'test_data_corrected.xlsx', sheet_name=0)\n",
    "y_test = pd.read_excel(ROOT_PATH + 'test_data_corrected.xlsx', sheet_name=1)\n",
    "\n",
    "X_train.columns = X_train.columns.str.rstrip()\n",
    "X_test.columns = X_test.columns.str.rstrip()"
   ]
  },
  {
   "cell_type": "code",
   "execution_count": 8,
   "metadata": {},
   "outputs": [],
   "source": [
    "def add_metrics(col_name_regex, col_name, col_start, col_end, df):\n",
    "    filtered_df = df.filter(regex=col_name_regex).copy()\n",
    "    new_df = pd.DataFrame()\n",
    "    new_df[f'{col_name} max'] = filtered_df.apply(max, axis=1)\n",
    "    new_df[f'{col_name} min'] = filtered_df.apply(min, axis=1)\n",
    "    new_df[f'{col_name} mean'] = filtered_df.mean(axis=1)\n",
    "    new_df[f'{col_name} std'] = filtered_df.std(axis=1)\n",
    "    new_df[f'{col_name} final diff'] = filtered_df[col_end] - filtered_df[col_start]\n",
    "    return new_df"
   ]
  },
  {
   "cell_type": "code",
   "execution_count": 9,
   "metadata": {},
   "outputs": [],
   "source": [
    "enhanced_df = pd.DataFrame()\n",
    "enhanced_df_test = pd.DataFrame()\n",
    "columns_data = [\n",
    "    ('^dd[\\d] Cell Density$', 'Cell Density', 'dd0 Cell Density', 'dd7 Cell Density'),\n",
    "    ('^dd[\\d]-dd[\\d] Cell Density Gradient$', 'Cell Density Gradient', 'dd0-dd1 Cell Density Gradient', 'dd5-dd7 Cell Density Gradient'),\n",
    "    ('^dd[\\d] Aggregate Size$', 'Aggregate Size', 'dd0 Aggregate Size', 'dd7 Aggregate Size'),\n",
    "    ('^dd[\\d]-dd[\\d] Aggregate Size Gradient$', 'Aggregate Size Gradient', 'dd0-dd1 Aggregate Size Gradient', 'dd5-dd7 Aggregate Size Gradient'),\n",
    "    ('^Average DO concentration dd[\\d]$', 'Average DO concentration', 'Average DO concentration dd0', 'Average DO concentration dd7'),\n",
    "    ('^Average DO concentration gradient dd[\\d]$', 'Average DO concentration gradient', 'Average DO concentration gradient dd0', 'Average DO concentration gradient dd7'),\n",
    "    ('^DO concentration/cell count dd[\\d]$', 'DO concentration/cell count', 'DO concentration/cell count dd0', 'DO concentration/cell count dd7'),\n",
    "    ('^DO gradient/cell count dd[\\d]$', 'DO gradient/cell count', 'DO gradient/cell count dd0', 'DO gradient/cell count dd7'),\n",
    "    ('^dd[\\d] Average of 2nd derivative DO$', 'Average of 2nd derivative DO', 'dd0 Average of 2nd derivative DO', 'dd7 Average of 2nd derivative DO'),\n",
    "    ('^dd[\\d] DO 2nd derivative/cell count$', 'DO 2nd derivative/cell count', 'dd0 DO 2nd derivative/cell count', 'dd7 DO 2nd derivative/cell count'),\n",
    "    ('^dd[\\d] Average pH$', 'Average pH', 'dd0 Average pH', 'dd7 Average pH'),\n",
    "    ('^dd[\\d] Average pH Gradient$', 'Average pH Gradient', 'dd0 Average pH Gradient', 'dd7 Average pH Gradient'),\n",
    "    ('^dd[\\d] Lactate Concentration$', 'Lactate Concentration', 'dd0 Lactate Concentration', 'dd7 Lactate Concentration'),\n",
    "    ('^dd[\\d] Glucose Concentration$', 'Glucose Concentration', 'dd0 Glucose Concentration', 'dd7 Glucose Concentration'),\n",
    "]\n",
    "\n",
    "for col_name_regex, col_name, col_start, col_end in columns_data:\n",
    "    new_cols = add_metrics(col_name_regex, col_name, col_start, col_end, X_train)\n",
    "    new_cols_test = add_metrics(col_name_regex, col_name, col_start, col_end, X_test)\n",
    "\n",
    "    enhanced_df = pd.concat([enhanced_df, new_cols], axis=1)\n",
    "    enhanced_df_test = pd.concat([enhanced_df_test, new_cols_test], axis=1)\n",
    "\n",
    "X_train = enhanced_df.copy()\n",
    "X_test = enhanced_df_test.copy()"
   ]
  },
  {
   "cell_type": "code",
   "execution_count": 10,
   "metadata": {},
   "outputs": [],
   "source": [
    "scaler = RobustScaler()\n",
    "X_train = scaler.fit_transform(X_train)\n",
    "X_test = scaler.transform(X_test)"
   ]
  },
  {
   "cell_type": "code",
   "execution_count": 11,
   "metadata": {},
   "outputs": [],
   "source": [
    "# from sklearn.tree import DecisionTreeRegressor\n",
    "# from sklearn.base import TransformerMixin\n",
    "# from sklearn.decomposition import PCA\n",
    "# from sklearn.ensemble import RandomForestRegressor\n",
    "# from sklearn.gaussian_process import GaussianProcessRegressor\n",
    "# from sklearn.gaussian_process.kernels import RBF, WhiteKernel\n",
    "# from sklearn.feature_selection import SelectKBest, f_regression\n",
    "\n",
    "\n",
    "# y_train_temp = y_train.to_numpy().ravel() / 100\n",
    "# y_test_temp = y_test.to_numpy().ravel() / 100\n",
    "\n",
    "# class TreeTransformer(TransformerMixin):\n",
    "#     def __init__(self, estimator):\n",
    "#         self.estimator = estimator\n",
    "\n",
    "#     def fit(self, X, y):\n",
    "#         self.estimator.fit(X, y)\n",
    "#         return self\n",
    "\n",
    "#     def transform(self, X):\n",
    "#         return X\n",
    "\n",
    "\n",
    "# pca = PCA(n_components=0.95)\n",
    "# X_train_pca = pca.fit_transform(X_train)\n",
    "# X_test_pca = pca.transform(X_test)\n",
    "\n",
    "# # Fit a MARS model and find the features importances \n",
    "# model = make_pipeline(TreeTransformer(DecisionTreeRegressor(max_depth=3)), LinearRegression())\n",
    "# model.fit(X_train_pca, y_train_temp)\n",
    "\n",
    "# importance_mars_pca = model.named_steps['treetransformer'].estimator.feature_importances_\n",
    "# importance_mars = np.matmul(importance_mars_pca, np.abs(pca.components_)) # (NOT SURE)\n",
    "\n",
    "# # fit a RandomForestRegressor and find the features importances\n",
    "# model_rf = RandomForestRegressor(n_estimators=100, random_state=42)\n",
    "# model_rf.fit(X_train, y_train_temp)\n",
    "# importance_rf = model_rf.feature_importances_\n",
    "\n",
    "# choosen_quantile = 0.6\n",
    "# # SelectKBest feature selection\n",
    "# select = SelectKBest(f_regression, k=int((1-choosen_quantile)*X_train.shape[1]))\n",
    "# select.fit(X_train, y_train_temp)\n",
    "# indices = select.get_support(indices=True)\n",
    "# important_features_selectK = np.zeros(X_train.shape[1])\n",
    "# np.put(important_features_selectK, indices, 1)\n",
    "# important_features_selectK = important_features_selectK.astype(int)\n",
    "\n",
    "# # decide on which features to use\n",
    "# select_mars = np.where(importance_mars >= np.quantile(importance_mars, choosen_quantile), 1, 0)\n",
    "# select_rf = np.where(importance_rf >= np.quantile(importance_rf, choosen_quantile), 1, 0)\n",
    "\n",
    "# selected_features = select_mars | select_rf\n",
    "# selected_features = selected_features | important_features_selectK\n",
    "# selected_features = np.where(selected_features, True, False)\n",
    "\n",
    "# X_train = X_train[:, selected_features]\n",
    "# X_test = X_test[:, selected_features]\n"
   ]
  },
  {
   "cell_type": "code",
   "execution_count": 12,
   "metadata": {},
   "outputs": [],
   "source": [
    "y_train = (y_train >= 90).to_numpy().ravel()\n",
    "y_test = (y_test >= 90).to_numpy().ravel()\n"
   ]
  },
  {
   "cell_type": "code",
   "execution_count": 13,
   "metadata": {},
   "outputs": [],
   "source": [
    "from imblearn.combine import SMOTETomek\n",
    "from imblearn.over_sampling import SMOTE\n",
    "\n",
    "sme = SMOTETomek(random_state=42)\n",
    "\n",
    "X_train, y_train = sme.fit_resample(X_train, y_train)\n",
    "\n"
   ]
  },
  {
   "cell_type": "code",
   "execution_count": 21,
   "metadata": {},
   "outputs": [
    {
     "name": "stdout",
     "output_type": "stream",
     "text": [
      "RF_Classifier\n",
      "0.8333333333333334\n",
      "XGB_Classifier\n",
      "0.7222222222222222\n",
      "LGR_Classifier\n",
      "0.4444444444444444\n",
      "KNN_Classifier\n",
      "0.2222222222222222\n"
     ]
    }
   ],
   "source": [
    "import pickle as pkl\n",
    "from xgboost import XGBClassifier\n",
    "from sklearn.linear_model import LogisticRegression\n",
    "from sklearn.tree import DecisionTreeClassifier\n",
    "from sklearn.ensemble import RandomForestClassifier\n",
    "from sklearn.neighbors import KNeighborsClassifier\n",
    "import lightgbm as lgb\n",
    "\n",
    "RF_Classifier = RandomForestClassifier(random_state=42, n_jobs=-1, max_depth=6, n_estimators = 200)\n",
    "RF_Classifier.fit(X_train, y_train)\n",
    "y_pred = RF_Classifier.predict(X_test)\n",
    "\n",
    "\n",
    "print(\"RF_Classifier\")\n",
    "print(RF_Classifier.fit(X_train, y_train).score(X_test, y_test))\n",
    "\n",
    "XGB_Classifier = XGBClassifier(random_state=42,n_jobs=-1,max_depth=7,n_estimators = 200)\n",
    "print(\"XGB_Classifier\")\n",
    "print(XGB_Classifier.fit(X_train, y_train).score(X_test, y_test))\n",
    "\n",
    "\n",
    "LGR_Classifier = LogisticRegression(n_jobs=-1, random_state=42)\n",
    "print(\"LGR_Classifier\")\n",
    "print(LGR_Classifier.fit(X_train, y_train).score(X_test, y_test))\n",
    "\n",
    "KNN_Classifier =  KNeighborsClassifier()\n",
    "print(\"KNN_Classifier\")\n",
    "print(KNN_Classifier.fit(X_train, y_train).score(X_test, y_test))\n"
   ]
  },
  {
   "cell_type": "code",
   "execution_count": 72,
   "metadata": {},
   "outputs": [
    {
     "data": {
      "text/plain": "RandomizedSearchCV(cv=5,\n                   estimator=StackingClassifier(estimators=[('logistic',\n                                                             LogisticRegression(n_jobs=-1,\n                                                                                random_state=42)),\n                                                            ('xgb',\n                                                             XGBClassifier(base_score=None,\n                                                                           booster=None,\n                                                                           callbacks=None,\n                                                                           colsample_bylevel=None,\n                                                                           colsample_bynode=None,\n                                                                           colsample_bytree=None,\n                                                                           early_stopping_rounds=None,\n                                                                           enable_categorical=False,\n                                                                           eval_metric=None,\n                                                                           feature_types=None,\n                                                                           gamma=...\n                                        'rf__max_depth': <scipy.stats._distn_infrastructure.rv_discrete_frozen object at 0x000002460D0D0940>,\n                                        'rf__n_estimators': <scipy.stats._distn_infrastructure.rv_discrete_frozen object at 0x000002460D0D3100>,\n                                        'xgb__max_depth': <scipy.stats._distn_infrastructure.rv_discrete_frozen object at 0x000002460D0D2620>,\n                                        'xgb__n_estimators': <scipy.stats._distn_infrastructure.rv_discrete_frozen object at 0x000002460D0D0040>},\n                   random_state=42)",
      "text/html": "<style>#sk-container-id-4 {color: black;background-color: white;}#sk-container-id-4 pre{padding: 0;}#sk-container-id-4 div.sk-toggleable {background-color: white;}#sk-container-id-4 label.sk-toggleable__label {cursor: pointer;display: block;width: 100%;margin-bottom: 0;padding: 0.3em;box-sizing: border-box;text-align: center;}#sk-container-id-4 label.sk-toggleable__label-arrow:before {content: \"▸\";float: left;margin-right: 0.25em;color: #696969;}#sk-container-id-4 label.sk-toggleable__label-arrow:hover:before {color: black;}#sk-container-id-4 div.sk-estimator:hover label.sk-toggleable__label-arrow:before {color: black;}#sk-container-id-4 div.sk-toggleable__content {max-height: 0;max-width: 0;overflow: hidden;text-align: left;background-color: #f0f8ff;}#sk-container-id-4 div.sk-toggleable__content pre {margin: 0.2em;color: black;border-radius: 0.25em;background-color: #f0f8ff;}#sk-container-id-4 input.sk-toggleable__control:checked~div.sk-toggleable__content {max-height: 200px;max-width: 100%;overflow: auto;}#sk-container-id-4 input.sk-toggleable__control:checked~label.sk-toggleable__label-arrow:before {content: \"▾\";}#sk-container-id-4 div.sk-estimator input.sk-toggleable__control:checked~label.sk-toggleable__label {background-color: #d4ebff;}#sk-container-id-4 div.sk-label input.sk-toggleable__control:checked~label.sk-toggleable__label {background-color: #d4ebff;}#sk-container-id-4 input.sk-hidden--visually {border: 0;clip: rect(1px 1px 1px 1px);clip: rect(1px, 1px, 1px, 1px);height: 1px;margin: -1px;overflow: hidden;padding: 0;position: absolute;width: 1px;}#sk-container-id-4 div.sk-estimator {font-family: monospace;background-color: #f0f8ff;border: 1px dotted black;border-radius: 0.25em;box-sizing: border-box;margin-bottom: 0.5em;}#sk-container-id-4 div.sk-estimator:hover {background-color: #d4ebff;}#sk-container-id-4 div.sk-parallel-item::after {content: \"\";width: 100%;border-bottom: 1px solid gray;flex-grow: 1;}#sk-container-id-4 div.sk-label:hover label.sk-toggleable__label {background-color: #d4ebff;}#sk-container-id-4 div.sk-serial::before {content: \"\";position: absolute;border-left: 1px solid gray;box-sizing: border-box;top: 0;bottom: 0;left: 50%;z-index: 0;}#sk-container-id-4 div.sk-serial {display: flex;flex-direction: column;align-items: center;background-color: white;padding-right: 0.2em;padding-left: 0.2em;position: relative;}#sk-container-id-4 div.sk-item {position: relative;z-index: 1;}#sk-container-id-4 div.sk-parallel {display: flex;align-items: stretch;justify-content: center;background-color: white;position: relative;}#sk-container-id-4 div.sk-item::before, #sk-container-id-4 div.sk-parallel-item::before {content: \"\";position: absolute;border-left: 1px solid gray;box-sizing: border-box;top: 0;bottom: 0;left: 50%;z-index: -1;}#sk-container-id-4 div.sk-parallel-item {display: flex;flex-direction: column;z-index: 1;position: relative;background-color: white;}#sk-container-id-4 div.sk-parallel-item:first-child::after {align-self: flex-end;width: 50%;}#sk-container-id-4 div.sk-parallel-item:last-child::after {align-self: flex-start;width: 50%;}#sk-container-id-4 div.sk-parallel-item:only-child::after {width: 0;}#sk-container-id-4 div.sk-dashed-wrapped {border: 1px dashed gray;margin: 0 0.4em 0.5em 0.4em;box-sizing: border-box;padding-bottom: 0.4em;background-color: white;}#sk-container-id-4 div.sk-label label {font-family: monospace;font-weight: bold;display: inline-block;line-height: 1.2em;}#sk-container-id-4 div.sk-label-container {text-align: center;}#sk-container-id-4 div.sk-container {/* jupyter's `normalize.less` sets `[hidden] { display: none; }` but bootstrap.min.css set `[hidden] { display: none !important; }` so we also need the `!important` here to be able to override the default hidden behavior on the sphinx rendered scikit-learn.org. See: https://github.com/scikit-learn/scikit-learn/issues/21755 */display: inline-block !important;position: relative;}#sk-container-id-4 div.sk-text-repr-fallback {display: none;}</style><div id=\"sk-container-id-4\" class=\"sk-top-container\"><div class=\"sk-text-repr-fallback\"><pre>RandomizedSearchCV(cv=5,\n                   estimator=StackingClassifier(estimators=[(&#x27;logistic&#x27;,\n                                                             LogisticRegression(n_jobs=-1,\n                                                                                random_state=42)),\n                                                            (&#x27;xgb&#x27;,\n                                                             XGBClassifier(base_score=None,\n                                                                           booster=None,\n                                                                           callbacks=None,\n                                                                           colsample_bylevel=None,\n                                                                           colsample_bynode=None,\n                                                                           colsample_bytree=None,\n                                                                           early_stopping_rounds=None,\n                                                                           enable_categorical=False,\n                                                                           eval_metric=None,\n                                                                           feature_types=None,\n                                                                           gamma=...\n                                        &#x27;rf__max_depth&#x27;: &lt;scipy.stats._distn_infrastructure.rv_discrete_frozen object at 0x000002460D0D0940&gt;,\n                                        &#x27;rf__n_estimators&#x27;: &lt;scipy.stats._distn_infrastructure.rv_discrete_frozen object at 0x000002460D0D3100&gt;,\n                                        &#x27;xgb__max_depth&#x27;: &lt;scipy.stats._distn_infrastructure.rv_discrete_frozen object at 0x000002460D0D2620&gt;,\n                                        &#x27;xgb__n_estimators&#x27;: &lt;scipy.stats._distn_infrastructure.rv_discrete_frozen object at 0x000002460D0D0040&gt;},\n                   random_state=42)</pre><b>In a Jupyter environment, please rerun this cell to show the HTML representation or trust the notebook. <br />On GitHub, the HTML representation is unable to render, please try loading this page with nbviewer.org.</b></div><div class=\"sk-container\" hidden><div class=\"sk-item sk-dashed-wrapped\"><div class=\"sk-label-container\"><div class=\"sk-label sk-toggleable\"><input class=\"sk-toggleable__control sk-hidden--visually\" id=\"sk-estimator-id-22\" type=\"checkbox\" ><label for=\"sk-estimator-id-22\" class=\"sk-toggleable__label sk-toggleable__label-arrow\">RandomizedSearchCV</label><div class=\"sk-toggleable__content\"><pre>RandomizedSearchCV(cv=5,\n                   estimator=StackingClassifier(estimators=[(&#x27;logistic&#x27;,\n                                                             LogisticRegression(n_jobs=-1,\n                                                                                random_state=42)),\n                                                            (&#x27;xgb&#x27;,\n                                                             XGBClassifier(base_score=None,\n                                                                           booster=None,\n                                                                           callbacks=None,\n                                                                           colsample_bylevel=None,\n                                                                           colsample_bynode=None,\n                                                                           colsample_bytree=None,\n                                                                           early_stopping_rounds=None,\n                                                                           enable_categorical=False,\n                                                                           eval_metric=None,\n                                                                           feature_types=None,\n                                                                           gamma=...\n                                        &#x27;rf__max_depth&#x27;: &lt;scipy.stats._distn_infrastructure.rv_discrete_frozen object at 0x000002460D0D0940&gt;,\n                                        &#x27;rf__n_estimators&#x27;: &lt;scipy.stats._distn_infrastructure.rv_discrete_frozen object at 0x000002460D0D3100&gt;,\n                                        &#x27;xgb__max_depth&#x27;: &lt;scipy.stats._distn_infrastructure.rv_discrete_frozen object at 0x000002460D0D2620&gt;,\n                                        &#x27;xgb__n_estimators&#x27;: &lt;scipy.stats._distn_infrastructure.rv_discrete_frozen object at 0x000002460D0D0040&gt;},\n                   random_state=42)</pre></div></div></div><div class=\"sk-parallel\"><div class=\"sk-parallel-item\"><div class=\"sk-item\"><div class=\"sk-label-container\"><div class=\"sk-label sk-toggleable\"><input class=\"sk-toggleable__control sk-hidden--visually\" id=\"sk-estimator-id-23\" type=\"checkbox\" ><label for=\"sk-estimator-id-23\" class=\"sk-toggleable__label sk-toggleable__label-arrow\">estimator: StackingClassifier</label><div class=\"sk-toggleable__content\"><pre>StackingClassifier(estimators=[(&#x27;logistic&#x27;,\n                                LogisticRegression(n_jobs=-1, random_state=42)),\n                               (&#x27;xgb&#x27;,\n                                XGBClassifier(base_score=None, booster=None,\n                                              callbacks=None,\n                                              colsample_bylevel=None,\n                                              colsample_bynode=None,\n                                              colsample_bytree=None,\n                                              early_stopping_rounds=None,\n                                              enable_categorical=False,\n                                              eval_metric=None,\n                                              feature_types=None, gamma=None,\n                                              gpu_id=None, grow_policy=None,...\n                                              max_cat_to_onehot=None,\n                                              max_delta_step=None, max_depth=7,\n                                              max_leaves=None,\n                                              min_child_weight=None,\n                                              missing=nan,\n                                              monotone_constraints=None,\n                                              n_estimators=200, n_jobs=-1,\n                                              num_parallel_tree=None,\n                                              predictor=None, random_state=42, ...)),\n                               (&#x27;rf&#x27;,\n                                RandomForestClassifier(max_depth=6,\n                                                       n_estimators=200,\n                                                       n_jobs=-1,\n                                                       random_state=42)),\n                               (&#x27;knn&#x27;, KNeighborsClassifier())],\n                   final_estimator=LGBMClassifier())</pre></div></div></div><div class=\"sk-serial\"><div class=\"sk-item\"><div class=\"sk-serial\"><div class=\"sk-item\"><div class=\"sk-parallel\"><div class=\"sk-parallel-item\"><div class=\"sk-item\"><div class=\"sk-label-container\"><div class=\"sk-label sk-toggleable\"><label>logistic</label></div></div><div class=\"sk-serial\"><div class=\"sk-item\"><div class=\"sk-estimator sk-toggleable\"><input class=\"sk-toggleable__control sk-hidden--visually\" id=\"sk-estimator-id-24\" type=\"checkbox\" ><label for=\"sk-estimator-id-24\" class=\"sk-toggleable__label sk-toggleable__label-arrow\">LogisticRegression</label><div class=\"sk-toggleable__content\"><pre>LogisticRegression(n_jobs=-1, random_state=42)</pre></div></div></div></div></div></div><div class=\"sk-parallel-item\"><div class=\"sk-item\"><div class=\"sk-label-container\"><div class=\"sk-label sk-toggleable\"><label>xgb</label></div></div><div class=\"sk-serial\"><div class=\"sk-item\"><div class=\"sk-estimator sk-toggleable\"><input class=\"sk-toggleable__control sk-hidden--visually\" id=\"sk-estimator-id-25\" type=\"checkbox\" ><label for=\"sk-estimator-id-25\" class=\"sk-toggleable__label sk-toggleable__label-arrow\">XGBClassifier</label><div class=\"sk-toggleable__content\"><pre>XGBClassifier(base_score=None, booster=None, callbacks=None,\n              colsample_bylevel=None, colsample_bynode=None,\n              colsample_bytree=None, early_stopping_rounds=None,\n              enable_categorical=False, eval_metric=None, feature_types=None,\n              gamma=None, gpu_id=None, grow_policy=None, importance_type=None,\n              interaction_constraints=None, learning_rate=None, max_bin=None,\n              max_cat_threshold=None, max_cat_to_onehot=None,\n              max_delta_step=None, max_depth=7, max_leaves=None,\n              min_child_weight=None, missing=nan, monotone_constraints=None,\n              n_estimators=200, n_jobs=-1, num_parallel_tree=None,\n              predictor=None, random_state=42, ...)</pre></div></div></div></div></div></div><div class=\"sk-parallel-item\"><div class=\"sk-item\"><div class=\"sk-label-container\"><div class=\"sk-label sk-toggleable\"><label>rf</label></div></div><div class=\"sk-serial\"><div class=\"sk-item\"><div class=\"sk-estimator sk-toggleable\"><input class=\"sk-toggleable__control sk-hidden--visually\" id=\"sk-estimator-id-26\" type=\"checkbox\" ><label for=\"sk-estimator-id-26\" class=\"sk-toggleable__label sk-toggleable__label-arrow\">RandomForestClassifier</label><div class=\"sk-toggleable__content\"><pre>RandomForestClassifier(max_depth=6, n_estimators=200, n_jobs=-1,\n                       random_state=42)</pre></div></div></div></div></div></div><div class=\"sk-parallel-item\"><div class=\"sk-item\"><div class=\"sk-label-container\"><div class=\"sk-label sk-toggleable\"><label>knn</label></div></div><div class=\"sk-serial\"><div class=\"sk-item\"><div class=\"sk-estimator sk-toggleable\"><input class=\"sk-toggleable__control sk-hidden--visually\" id=\"sk-estimator-id-27\" type=\"checkbox\" ><label for=\"sk-estimator-id-27\" class=\"sk-toggleable__label sk-toggleable__label-arrow\">KNeighborsClassifier</label><div class=\"sk-toggleable__content\"><pre>KNeighborsClassifier()</pre></div></div></div></div></div></div></div></div><div class=\"sk-item\"><div class=\"sk-parallel\"><div class=\"sk-parallel-item\"><div class=\"sk-item\"><div class=\"sk-label-container\"><div class=\"sk-label sk-toggleable\"><label>final_estimator</label></div></div><div class=\"sk-serial\"><div class=\"sk-item\"><div class=\"sk-estimator sk-toggleable\"><input class=\"sk-toggleable__control sk-hidden--visually\" id=\"sk-estimator-id-28\" type=\"checkbox\" ><label for=\"sk-estimator-id-28\" class=\"sk-toggleable__label sk-toggleable__label-arrow\">LGBMClassifier</label><div class=\"sk-toggleable__content\"><pre>LGBMClassifier()</pre></div></div></div></div></div></div></div></div></div></div></div></div></div></div></div></div></div>"
     },
     "execution_count": 72,
     "metadata": {},
     "output_type": "execute_result"
    }
   ],
   "source": [
    "import pickle as pkl\n",
    "from xgboost import XGBClassifier\n",
    "from sklearn.linear_model import LogisticRegression\n",
    "from sklearn.tree import DecisionTreeClassifier\n",
    "from sklearn.ensemble import RandomForestClassifier\n",
    "from sklearn.neighbors import KNeighborsClassifier\n",
    "import lightgbm as lgb\n",
    "from sklearn.model_selection import GridSearchCV, RandomizedSearchCV\n",
    "from sklearn.ensemble import StackingClassifier\n",
    "\n",
    "# LGB_Classifier = lgb.LGBMClassifier(max_depth=0)\n",
    "#LGB_Classifier.fit(X_train, y_train)\n",
    "\n",
    "\n",
    "RF_Classifier = RandomForestClassifier(random_state=42, n_jobs=-1, max_depth=6, n_estimators = 200)\n",
    "#RF_Classifier.fit(X_train, y_train)\n",
    "\n",
    "\n",
    "XGB_Classifier = XGBClassifier(random_state=42,n_jobs=-1,max_depth=7,n_estimators = 200)\n",
    "#XGB_Classifier.fit(X_train, y_train)\n",
    "\n",
    "\n",
    "LGR_Classifier = LogisticRegression(n_jobs=-1, random_state=42)\n",
    "#LGR_Classifier.fit(X_train, y_train)\n",
    "\n",
    "KNN_Classifier =  KNeighborsClassifier()\n",
    "\n",
    "# estimators = [LGR_Classifier,XGB_Classifier,RF_Classifier,KNN_Classifier]\n",
    "estimators = [('logistic', LGR_Classifier), ('xgb', XGB_Classifier), ('rf', RF_Classifier), ('knn', KNN_Classifier)]\n",
    "\n",
    "\n",
    "clff = StackingClassifier(estimators=estimators, final_estimator=lgb.LGBMClassifier())\n",
    "param_dist = {'rf__max_depth': randint(1, 20),\n",
    "              'rf__n_estimators': randint(50, 500),\n",
    "              'xgb__max_depth': randint(1, 20),\n",
    "              'xgb__n_estimators': randint(50, 500),\n",
    "              'knn__n_neighbors': randint(1, 20),\n",
    "           }\n",
    "random_search = RandomizedSearchCV(estimator=clff, param_distributions=param_dist, cv=5, n_iter=1000, n_jobs=-1, random_state=42)\n",
    "\n",
    "random_search.fit(X_train, y_train)\n",
    "\n",
    "\n"
   ]
  },
  {
   "cell_type": "markdown",
   "source": [],
   "metadata": {
    "collapsed": false
   }
  },
  {
   "cell_type": "code",
   "execution_count": 80,
   "metadata": {},
   "outputs": [
    {
     "data": {
      "text/plain": "{'knn__n_neighbors': 9,\n 'rf__max_depth': 2,\n 'rf__n_estimators': 102,\n 'xgb__max_depth': 12,\n 'xgb__n_estimators': 404}"
     },
     "execution_count": 80,
     "metadata": {},
     "output_type": "execute_result"
    }
   ],
   "source": [
    "random_search.best_params_"
   ]
  },
  {
   "cell_type": "code",
   "execution_count": 81,
   "outputs": [],
   "source": [
    "best_params = {'knn__n_neighbors': 9,\n",
    " 'rf__max_depth': 2,\n",
    " 'rf__n_estimators': 102,\n",
    " 'xgb__max_depth': 12,\n",
    " 'xgb__n_estimators': 404}"
   ],
   "metadata": {
    "collapsed": false
   }
  },
  {
   "attachments": {},
   "cell_type": "markdown",
   "metadata": {
    "datalore": {
     "hide_input_from_viewers": true,
     "hide_output_from_viewers": true,
     "node_id": "hVCp3f1Z53DbTgQvf9v7M5",
     "type": "MD"
    }
   },
   "source": [
    "## Model time"
   ]
  },
  {
   "cell_type": "code",
   "execution_count": 81,
   "outputs": [],
   "source": [
    "RF_Classifier = RandomForestClassifier(random_state=42, n_jobs=-1, max_depth=best_params['rf__max_depth'], n_estimators = best_params['rf__n_estimators'])\n",
    "#RF_Classifier.fit(X_train, y_train)\n",
    "\n",
    "\n",
    "XGB_Classifier = XGBClassifier(random_state=42,n_jobs=-1,max_depth=best_params['xgb__max_depth'],n_estimators = best_params['xgb__n_estimators'])\n",
    "#XGB_Classifier.fit(X_train, y_train)\n",
    "\n",
    "\n",
    "LGR_Classifier = LogisticRegression(n_jobs=-1, random_state=42)\n",
    "#LGR_Classifier.fit(X_train, y_train)\n",
    "\n",
    "KNN_Classifier =  KNeighborsClassifier(n_neighbors=best_params['knn__n_neighbors'])\n",
    "\n",
    "# estimators = [LGR_Classifier,XGB_Classifier,RF_Classifier,KNN_Classifier]\n",
    "estimators = [('logistic', LGR_Classifier), ('xgb', XGB_Classifier), ('rf', RF_Classifier), ('knn', KNN_Classifier)]\n",
    "\n",
    "\n",
    "clff = StackingClassifier(estimators=estimators, final_estimator=lgb.LGBMClassifier())\n",
    "clff.fit(X_train, y_train)\n",
    "y_pred = clff.predict(X_test)\n"
   ],
   "metadata": {
    "collapsed": false
   }
  },
  {
   "cell_type": "code",
   "execution_count": 82,
   "metadata": {},
   "outputs": [
    {
     "name": "stdout",
     "output_type": "stream",
     "text": [
      "Accuracy :  0.8333333333333334\n",
      "Precision :  0.75\n",
      "Recall :  0.6\n",
      "MCC :  0.5635445125120265\n"
     ]
    }
   ],
   "source": [
    "from sklearn.metrics import accuracy_score, precision_score, recall_score, matthews_corrcoef\n",
    "\n",
    "\n",
    "# Classify predictions\n",
    "y_pred_class = np.where(y_pred >= 0.9, 1, 0)\n",
    "y_true_class = np.where(y_test >= 0.9, 1, 0)\n",
    "\n",
    "# results\n",
    "# Accuracy\n",
    "print('Accuracy : ', accuracy_score(y_test, y_pred))\n",
    "\n",
    "# Precision\n",
    "print('Precision : ', precision_score(y_test, y_pred))\n",
    "\n",
    "# Recall\n",
    "print('Recall : ', recall_score(y_test, y_pred))\n",
    "\n",
    "# MCC\n",
    "print('MCC : ', matthews_corrcoef(y_test, y_pred))\n"
   ]
  }
 ],
 "metadata": {
  "datalore": {
   "base_environment": "default",
   "computation_mode": "JUPYTER",
   "package_manager": "pip",
   "packages": [
    {
     "name": "openpyxl",
     "source": "PIP",
     "version": "3.2.0b1"
    },
    {
     "name": "dabl",
     "source": "PIP"
    },
    {
     "name": "sklearn-extensions",
     "source": "PIP"
    },
    {
     "name": "splines",
     "source": "PIP",
     "version": "0.2.0"
    }
   ],
   "report_row_ids": [],
   "version": 2
  },
  "kernelspec": {
   "display_name": "base",
   "language": "python",
   "name": "python3"
  },
  "language_info": {
   "codemirror_mode": {
    "name": "ipython",
    "version": 3
   },
   "file_extension": ".py",
   "mimetype": "text/x-python",
   "name": "python",
   "nbconvert_exporter": "python",
   "pygments_lexer": "ipython3",
   "version": "3.8.10"
  }
 },
 "nbformat": 4,
 "nbformat_minor": 4
}
